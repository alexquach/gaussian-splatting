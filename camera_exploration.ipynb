{
 "cells": [
  {
   "cell_type": "code",
   "execution_count": 46,
   "metadata": {},
   "outputs": [
    {
     "data": {
      "text/plain": [
       "{'id': 0,\n",
       " 'img_name': '298456599719',\n",
       " 'width': 1000,\n",
       " 'height': 752,\n",
       " 'position': [0.08193568363403268, 0.08856146833243739, 2.219895699143833],\n",
       " 'rotation': [[0.9265081698155152, 0.2398760023461936, 0.28990018068899803],\n",
       "  [-0.3724999446230232, 0.6935827285981536, 0.6165928882546281],\n",
       "  [-0.053163921233759445, -0.6792661496709141, 0.7319638620794758]],\n",
       " 'fy': 776.0253267729305,\n",
       " 'fx': 776.6956362332196}"
      ]
     },
     "execution_count": 46,
     "metadata": {},
     "output_type": "execute_result"
    }
   ],
   "source": [
    "import json\n",
    "import numpy as np\n",
    "\n",
    "\n",
    "camera_json_path = \"/home/makramchahine/repos/gaussian-splatting/output/holodeck2/cameras.json\"\n",
    "with open(camera_json_path) as f:\n",
    "    cameras = json.load(f)\n",
    "\n",
    "cameras[0]"
   ]
  },
  {
   "attachments": {},
   "cell_type": "markdown",
   "metadata": {},
   "source": [
    "### Helpers"
   ]
  },
  {
   "cell_type": "code",
   "execution_count": 6,
   "metadata": {},
   "outputs": [],
   "source": [
    "def get_pos_rot(camera_dict):\n",
    "    return np.array(camera_dict['position'].copy()), np.array(camera_dict['rotation'].copy())\n",
    "\n",
    "def process_keycamera_to_W2C(keycamera_dict):\n",
    "    origin = np.array(keycamera_dict['origin'])\n",
    "    up = np.array(keycamera_dict['up'])\n",
    "    target = np.array(keycamera_dict['target'])\n",
    "\n",
    "    forward_direction = target - origin + manual_adjustment\n",
    "    forward_direction = forward_direction / np.linalg.norm(forward_direction)\n",
    "\n",
    "    right_direction = np.cross(up, forward_direction)\n",
    "    right_direction = right_direction / np.linalg.norm(right_direction)\n",
    "\n",
    "    up_direction = np.cross(forward_direction, right_direction)\n",
    "    up_direction = up_direction / np.linalg.norm(up_direction)\n",
    "\n",
    "    rot = np.array([up_direction, right_direction, forward_direction])\n",
    "\n",
    "    return {\n",
    "        'position': origin.tolist(),\n",
    "        'rotation': rot.tolist()\n",
    "    }\n",
    "\n",
    "def parse_keycamera(file_path):\n",
    "    with open(file_path, 'r') as file:\n",
    "        data = file.readlines()\n",
    "    parsed_data = []\n",
    "    for line in data:\n",
    "        line = line.strip().split('-D')\n",
    "        line_dict = {}\n",
    "        for item in line:\n",
    "            output = item.split('=')\n",
    "            if len(output) == 2:\n",
    "                key, value = output\n",
    "                key = key.strip()\n",
    "                # if value has commas, convert it to a list\n",
    "                if ',' in value:\n",
    "                    value = value.split(',')\n",
    "                    value = [float(v) for v in value]\n",
    "                else:\n",
    "                    value = float(value)\n",
    "                \n",
    "                line_dict[key] = value\n",
    "        parsed_data.append(line_dict)\n",
    "    return parsed_data\n",
    "\n",
    "def replace_w2c(camera_dict, keycamera_dict):\n",
    "    new_dict = camera_dict.copy()\n",
    "    new_dict['position'] = keycamera_dict['position']\n",
    "    new_dict['rotation'] = keycamera_dict['rotation']\n",
    "    return new_dict\n",
    "\n",
    "def get_forward_direction(camera_dict):\n",
    "    return np.array(camera_dict['rotation'][2]).copy()\n",
    "\n",
    "def move_forward(start_dict, distance):\n",
    "    new_dict = start_dict.copy()\n",
    "    rot = np.array(new_dict['rotation'])\n",
    "    pos = np.array(new_dict['position'])\n",
    "    \n",
    "    forward_direction = rot[:, 2]\n",
    "    pos = pos + forward_direction * distance\n",
    "    new_dict['position'] = pos.tolist()\n",
    "    return new_dict\n",
    "\n",
    "def rise_relative_to_camera(start_dict, distance):\n",
    "    new_dict = start_dict.copy()\n",
    "    rot = np.array(new_dict['rotation'])\n",
    "    pos = np.array(new_dict['position'])\n",
    "    \n",
    "    up_direction = -rot[:, 0]\n",
    "    pos = pos + up_direction * distance\n",
    "    new_dict['position'] = pos.tolist()\n",
    "    return new_dict\n",
    "\n",
    "def rotate_relative_to_camera(start_dict, angle):\n",
    "    new_dict = start_dict.copy()\n",
    "    rot = np.array(new_dict['rotation'])\n",
    "    pos = np.array(new_dict['position'])\n",
    "    \n",
    "    rot = rot @ np.array([[np.cos(angle), 0, np.sin(angle)], [0, 1, 0], [-np.sin(angle), 0, np.cos(angle)]])\n",
    "    new_dict['rotation'] = rot.tolist()\n",
    "    return new_dict\n",
    "\n",
    "def point_camera_at(start_dict, point):\n",
    "    new_dict = start_dict.copy()\n",
    "    rot = np.array(new_dict['rotation'])\n",
    "    pos = np.array(new_dict['position'])\n",
    "    \n",
    "    forward_direction = point - pos\n",
    "    forward_direction = forward_direction / np.linalg.norm(forward_direction)\n",
    "\n",
    "    up_direction = np.array([1, 0, 0])\n",
    "    right_direction = np.cross(up_direction, forward_direction)\n",
    "    right_direction = right_direction / np.linalg.norm(right_direction)\n",
    "\n",
    "    up_direction = np.cross(forward_direction, right_direction)\n",
    "    up_direction = up_direction / np.linalg.norm(up_direction)\n",
    "    \n",
    "    # import itertools\n",
    "    # import random\n",
    "    # order = random.sample(list(itertools.permutations([up_direction, right_direction, forward_direction], 3)), 1)\n",
    "    # print(order)\n",
    "    rot = np.array([up_direction, right_direction, forward_direction])\n",
    "    new_dict['rotation'] = rot.tolist()\n",
    "    return new_dict\n",
    "\n",
    "def point_camera_at_origin(start_dict):\n",
    "    return point_camera_at(start_dict, np.array([0, 0, 0]))\n",
    "\n",
    "def place_camera_at(start_dict, point):\n",
    "    new_dict = start_dict.copy()\n",
    "    new_dict['position'] = point.tolist()\n",
    "    return new_dict\n",
    "\n",
    "def rotate_camera(start_dict):\n",
    "    new_dict = start_dict.copy()\n",
    "    pos, rot = get_pos_rot(start_dict)\n",
    "    \n",
    "    up_vector = -rot[:, 0]\n",
    "    up_plane = np.array([1, 0, 0])  # Assuming the up plane is the y-axis\n",
    "    \n",
    "    # Calculate the angle between the camera's up vector and the up plane\n",
    "    angle = np.arccos(np.dot(up_vector, up_plane) / (np.linalg.norm(up_vector) * np.linalg.norm(up_plane)))\n",
    "    \n",
    "    # Rotate the camera by the calculated angle around the cross product of the up vector and the up plane\n",
    "    rotation_axis = np.cross(up_vector, up_plane)\n",
    "    rotation_matrix = np.array([[np.cos(angle) + rotation_axis[0]**2 * (1 - np.cos(angle)), rotation_axis[0] * rotation_axis[1] * (1 - np.cos(angle)) - rotation_axis[2] * np.sin(angle), rotation_axis[0] * rotation_axis[2] * (1 - np.cos(angle)) + rotation_axis[1] * np.sin(angle)],\n",
    "                                [rotation_axis[1] * rotation_axis[0] * (1 - np.cos(angle)) + rotation_axis[2] * np.sin(angle), np.cos(angle) + rotation_axis[1]**2 * (1 - np.cos(angle)), rotation_axis[1] * rotation_axis[2] * (1 - np.cos(angle)) - rotation_axis[0] * np.sin(angle)],\n",
    "                                [rotation_axis[2] * rotation_axis[0] * (1 - np.cos(angle)) - rotation_axis[1] * np.sin(angle), rotation_axis[2] * rotation_axis[1] * (1 - np.cos(angle)) + rotation_axis[0] * np.sin(angle), np.cos(angle) + rotation_axis[2]**2 * (1 - np.cos(angle))]])\n",
    "    \n",
    "    # Apply the rotation to the camera's position and up vector\n",
    "    new_dict['position'] = (np.dot(rotation_matrix, pos)).tolist()\n",
    "    new_dict['rotation'] = (rotation_matrix @ rot).tolist()\n",
    "    # rot = np.dot(rotation_matrix, up_vector)\n",
    "    # rot = rot / np.linalg.norm(rot)\n",
    "\n",
    "    # new_dict['rotation'] = np.array([rot, np.cross(rot, np.array([0, 1, 0])), np.array([0, 1, 0])]).tolist()\n",
    "\n",
    "    return new_dict\n",
    "\n",
    "\n",
    "\n",
    "def rotate_about_forward_direction(start_dict, angle):\n",
    "    new_dict = start_dict.copy()\n",
    "    pos, rot = get_pos_rot(start_dict)\n",
    "\n",
    "    # Define the rotation matrix for counterclockwise rotation about the forward direction\n",
    "    rotation_matrix = np.array([[np.cos(angle), -np.sin(angle), 0], \n",
    "                                [np.sin(angle), np.cos(angle), 0],\n",
    "                                [0, 0, 1]])\n",
    "\n",
    "    # Apply the rotation to the camera's rotation matrix\n",
    "    new_dict['rotation'] = (rotation_matrix @ rot).tolist()\n",
    "\n",
    "    return new_dict\n",
    "\n",
    "# def interpolate(start_dict, end_dict, num_frames):\n",
    "#     start_pos, start_rot = get_pos_rot(start_dict)\n",
    "#     end_pos, end_rot = get_pos_rot(end_dict)\n",
    "\n",
    "#     pos_list = np.linspace(start_pos, end_pos, num_frames)\n",
    "#     rot_list = np.linspace(start_rot, end_rot, num_frames)\n",
    "\n",
    "#     dicts = []\n",
    "#     for i in range(num_frames):\n",
    "#         new_dict = start_dict.copy()\n",
    "#         new_dict['position'] = pos_list[i].tolist()\n",
    "#         new_dict['rotation'] = rot_list[i].tolist()\n",
    "#         dicts.append(new_dict)\n",
    "\n",
    "#     return dicts\n",
    "\n",
    "# interpolated = interpolate(keycameras[0], keycameras[1], 10)\n",
    "\n",
    "# for interpolate_dict in interpolated:\n",
    "#     save_list.append(rotate_about_forward_direction(replace_w2c(save_list[-1], interpolate_dict), np.pi/2))\n",
    "\n",
    "def rotate_about_up_direction(rot, angle):\n",
    "    # Define the rotation matrix for counterclockwise rotation about the up direction\n",
    "    rotation_matrix = np.array([\n",
    "                                # [1, 0, 0],\n",
    "                                # [0, np.cos(angle), -np.sin(angle)], \n",
    "                                # [0, np.sin(angle), np.cos(angle)],\n",
    "                                [np.cos(angle), 0, -np.sin(angle)], \n",
    "                                [0, 1, 0],\n",
    "                                [np.sin(angle), 0, np.cos(angle)],\n",
    "                                ])\n",
    "\n",
    "    # rotate on first row, is close to up direction\n",
    "    # rotate on second row, is close to right direction\n",
    "    # rotate on third row, is forward direction\n",
    "\n",
    "\n",
    "    # Apply the rotation to the camera's rotation matrix\n",
    "    new_rot = (rot @ rotation_matrix)\n",
    "    # print(new_rot)\n",
    "    return new_rot\n",
    "\n",
    "def rotate_camera_dict_about_up_direction(camera_dict, angle):\n",
    "    new_dict = camera_dict.copy()\n",
    "    pos, rot = get_pos_rot(camera_dict)\n",
    "\n",
    "    new_dict['rotation'] = rotate_about_up_direction(rot, angle).tolist()\n",
    "\n",
    "    return new_dict\n",
    "\n",
    "def dist_from_origin(camera_dict):\n",
    "    pos, rot = get_pos_rot(camera_dict)\n",
    "    return np.linalg.norm(pos)\n",
    "\n",
    "def flip_camera(start_dict):\n",
    "    new_dict = start_dict.copy()\n",
    "    pos, rot = get_pos_rot(start_dict)\n",
    "\n",
    "    # Define the rotation matrix for counterclockwise rotation about the forward direction\n",
    "    rotation_matrix = np.array([[1, 0, 0], \n",
    "                                [0, 1, 0],\n",
    "                                [0, 0, -1]])\n",
    "\n",
    "    # Apply the rotation to the camera's rotation matrix\n",
    "    new_dict['rotation'] = (rot @ rotation_matrix).tolist()\n",
    "\n",
    "    return new_dict\n",
    "\n",
    "def camera_diff(camera1, camera2):\n",
    "    pos1, rot1 = get_pos_rot(camera1)\n",
    "    pos2, rot2 = get_pos_rot(camera2)\n",
    "\n",
    "    pos_diff = pos1 - pos2\n",
    "    rot_diff = rot1 - rot2\n",
    "\n",
    "    print(\"Position difference: \", pos_diff)\n",
    "    print(\"Rotation difference: \", rot_diff)\n",
    "\n",
    "# camera_diff(keycameras[2], flip_camera(keycameras[2]))"
   ]
  },
  {
   "attachments": {},
   "cell_type": "markdown",
   "metadata": {},
   "source": [
    "## Load cameras, keycameras"
   ]
  },
  {
   "cell_type": "code",
   "execution_count": 38,
   "metadata": {},
   "outputs": [
    {
     "name": "stdout",
     "output_type": "stream",
     "text": [
      "[{'origin': [-0.60674, -0.077124, -3.563149], 'target': [-0.489422, -0.00529, -2.572657], 'up': [-0.928382, 0.362077, 0.083703], 'fovy': 51.702257, 'clip': [0.009, 1100.0]}, {'origin': [-0.189939, 0.178081, -0.044188], 'target': [-0.072621, 0.249914, 0.946304], 'up': [-0.928382, 0.362077, 0.083703], 'fovy': 51.702257, 'clip': [0.009, 1100.0]}, {'origin': [0.196958, 0.362517, 3.118752], 'target': [0.088023, 0.336833, 2.125035], 'up': [-0.927332, 0.362683, 0.092284], 'fovy': 51.702257, 'clip': [0.009, 1100.0]}, {'origin': [0.196958, 0.362517, 3.118752], 'target': [-0.158984, -0.568402, 3.200573], 'up': [-0.927332, 0.362682, 0.092283], 'fovy': 51.702257, 'clip': [0.009, 1100.0]}]\n",
      "{'position': [-0.38660632386109883, -0.16297803535973865, -3.5829962709443466], 'rotation': [[-0.9319829406852845, 0.35934124507855125, 0.047766807063129246], [0.35297931211899614, 0.9295914969721032, -0.10613790073844773], [0.08254334308476943, 0.08205801814911717, 0.993203442487907]]}\n",
      "{'position': [0.030195518539730543, 0.09222663609666062, -0.06403534689527701], 'rotation': [[-0.9319828990198882, 0.3593413060457464, 0.04776716135403172], [0.3529794205412431, 0.9295915613230362, -0.10613697655090809], [0.08254334987661381, 0.08205702216347505, 0.9932035242108286]]}\n",
      "{'position': [0.41640574541611985, 0.27669016920935047, 3.0969135260360035], 'rotation': [[-0.9227777583565616, 0.3634789220017584, 0.12792295315102395], [-0.357683168005487, -0.9314714935946332, 0.06651020933767658], [-0.14333164342879057, -0.015618254736771106, -0.9895514691571023]]}\n",
      "{'position': [0.4164025171239756, 0.27669166844716053, 3.096914083942157], 'rotation': [[-0.9139234510751211, 0.3959161926082035, 0.08941081593165734], [0.11429960180388488, 0.03967277900436026, 0.9926538528780032], [-0.38946055846826666, -0.9174292556032292, 0.08151094626423339]]}\n"
     ]
    }
   ],
   "source": [
    "manual_adjustment = np.array([-0.035, 0.01, 0])\n",
    "# manual_adjustment = np.array([0, 0, 0])\n",
    "def process_keycamera_to_W2C(keycamera_dict):\n",
    "    origin = np.array(keycamera_dict['origin'])\n",
    "    up = np.array(keycamera_dict['up'])\n",
    "    target = np.array(keycamera_dict['target'])\n",
    "\n",
    "    forward_direction = target - origin + manual_adjustment\n",
    "    forward_direction = forward_direction / np.linalg.norm(forward_direction)\n",
    "\n",
    "    right_direction = np.cross(up, forward_direction)\n",
    "    right_direction = right_direction / np.linalg.norm(right_direction)\n",
    "\n",
    "    up_direction = np.cross(forward_direction, right_direction)\n",
    "    up_direction = up_direction / np.linalg.norm(up_direction)\n",
    "\n",
    "    rot = np.array([up_direction, right_direction, forward_direction])\n",
    "\n",
    "    # project origin onto plane defined by up direction\n",
    "    origin = origin - np.dot(origin, up) * up\n",
    "\n",
    "    return {\n",
    "        'position': origin.tolist(),\n",
    "        'rotation': rot.tolist()\n",
    "    }\n",
    "\n",
    "file_path = \"./key_cameras_4\"\n",
    "parsed_data = parse_keycamera(file_path)\n",
    "print(parsed_data)\n",
    "\n",
    "for keycamera in parsed_data:\n",
    "    print(process_keycamera_to_W2C(keycamera))\n",
    "\n",
    "keycameras = [process_keycamera_to_W2C(keycamera) for keycamera in parsed_data]"
   ]
  },
  {
   "attachments": {},
   "cell_type": "markdown",
   "metadata": {},
   "source": [
    "### Helpers"
   ]
  },
  {
   "cell_type": "code",
   "execution_count": 10,
   "metadata": {},
   "outputs": [
    {
     "data": {
      "text/plain": [
       "{'position': [0.196958, 0.362517, 3.118752],\n",
       " 'rotation': [[-0.9273320764708398, 0.3626830013373253, 0.09228358732315443],\n",
       "  [-0.3580340562910567, -0.9315585717873832, 0.06332647049396699],\n",
       "  [-0.10893500118902552, -0.025684000280340846, -0.9937170108464213]]}"
      ]
     },
     "execution_count": 10,
     "metadata": {},
     "output_type": "execute_result"
    }
   ],
   "source": [
    "keycameras[2]"
   ]
  },
  {
   "cell_type": "code",
   "execution_count": 95,
   "metadata": {},
   "outputs": [
    {
     "data": {
      "text/plain": [
       "{'position': [0.196958, 0.362517, 3.118752],\n",
       " 'rotation': [[-0.9273320764708398, 0.3626830013373253, -0.09228358732315443],\n",
       "  [-0.3580340562910567, -0.9315585717873832, -0.06332647049396699],\n",
       "  [-0.10893500118902552, -0.025684000280340846, 0.9937170108464213]]}"
      ]
     },
     "execution_count": 95,
     "metadata": {},
     "output_type": "execute_result"
    }
   ],
   "source": [
    "flip_camera(keycameras[2])"
   ]
  },
  {
   "cell_type": "code",
   "execution_count": 96,
   "metadata": {},
   "outputs": [
    {
     "data": {
      "text/plain": [
       "{'position': [0.196958, 0.362517, 3.118752],\n",
       " 'rotation': [[0.35803405629105667, 0.9315585717873832, 0.06332647049396699],\n",
       "  [-0.9273320764708398, 0.36268300133732523, -0.09228358732315443],\n",
       "  [-0.10893500118902552, -0.025684000280340846, 0.9937170108464213]]}"
      ]
     },
     "execution_count": 96,
     "metadata": {},
     "output_type": "execute_result"
    }
   ],
   "source": [
    "rotate_about_forward_direction(flip_camera(keycameras[2]), np.pi/2)"
   ]
  },
  {
   "cell_type": "code",
   "execution_count": 97,
   "metadata": {},
   "outputs": [
    {
     "data": {
      "text/plain": [
       "{'position': [0.196958, 0.362517, 3.118752],\n",
       " 'rotation': [[0.35803405629105667, 0.9315585717873832, -0.06332647049396699],\n",
       "  [-0.9273320764708398, 0.36268300133732523, 0.09228358732315443],\n",
       "  [-0.10893500118902552, -0.025684000280340846, -0.9937170108464213]]}"
      ]
     },
     "execution_count": 97,
     "metadata": {},
     "output_type": "execute_result"
    }
   ],
   "source": [
    "rotate_about_forward_direction(keycameras[2], np.pi/2)"
   ]
  },
  {
   "cell_type": "code",
   "execution_count": 28,
   "metadata": {},
   "outputs": [
    {
     "data": {
      "text/plain": [
       "array([ 0.93116539,  0.36369923, -0.02557109])"
      ]
     },
     "execution_count": 28,
     "metadata": {},
     "output_type": "execute_result"
    }
   ],
   "source": [
    "# UP_VECTOR\n",
    "np.array(rotate_about_forward_direction(keycameras[2], np.pi/2)['rotation'])[:, 1]\n",
    "#OLD (keycamera2): array([ 0.93155857,  0.362683  , -0.025684  ])\n",
    "#NEW (keycamera2): array([ 0.93149278,  0.36375419, -0.00202001])z"
   ]
  },
  {
   "cell_type": "code",
   "execution_count": 38,
   "metadata": {},
   "outputs": [],
   "source": []
  },
  {
   "attachments": {},
   "cell_type": "markdown",
   "metadata": {},
   "source": [
    "## Generate Camera.json"
   ]
  },
  {
   "cell_type": "code",
   "execution_count": 47,
   "metadata": {},
   "outputs": [
    {
     "name": "stdout",
     "output_type": "stream",
     "text": [
      "{'id': 185, 'img_name': '298626350910', 'width': 1024, 'height': 576, 'position': [-0.38660632386109883, -0.16297803535973865, -3.5829962709443466], 'rotation': [[-0.3529793121189962, -0.9295914969721032, 0.10613790073844773], [-0.9319829406852845, 0.3593412450785513, 0.04776680706312924], [0.08254334308476943, 0.08205801814911717, 0.993203442487907]], 'fy': 776.0253267729305, 'fx': 776.6956362332196}\n",
      "Position difference:  [0.80301207 0.4396682  6.6799098 ]\n",
      "Rotation difference:  [[-0.56979845  1.29307042  0.02178505]\n",
      " [ 0.57429977 -1.29081274  0.0187434 ]\n",
      " [-0.22587499 -0.09767627 -1.98275491]]\n"
     ]
    }
   ],
   "source": [
    "save_list = []\n",
    "\n",
    "start_dict = replace_w2c(cameras[185], keycameras[0])\n",
    "base_forward_direction = get_forward_direction(start_dict)\n",
    "\n",
    "first_append = start_dict.copy()\n",
    "# first_append = flip_camera(first_append)\n",
    "first_append = rotate_about_forward_direction(first_append, np.pi/2)\n",
    "save_list.append(first_append)\n",
    "\n",
    "print(save_list[-1])\n",
    "camera_diff(keycameras[2], first_append)\n",
    "\n",
    "INCREMENT_FORWARD = 0.05\n",
    "INCREMENT_YAW = 2*np.pi / 80\n",
    "START_TURNING_DIST = 1.5\n",
    "STOP_TURN_THRESHOLD = np.pi / 2\n",
    "accumulated_yaw = 0\n",
    "has_turned = False\n",
    "for i in range(200):\n",
    "    last_dict = save_list[-1].copy()\n",
    "\n",
    "    dist = dist_from_origin(last_dict)\n",
    "    last_dict = move_forward(last_dict, INCREMENT_FORWARD)\n",
    "    if dist < START_TURNING_DIST and abs(accumulated_yaw) <= STOP_TURN_THRESHOLD:\n",
    "        last_dict = rotate_camera_dict_about_up_direction(last_dict, INCREMENT_YAW)\n",
    "        accumulated_yaw += INCREMENT_YAW\n",
    "        has_turned = True\n",
    "    elif has_turned:\n",
    "        break\n",
    "\n",
    "    save_list.append(last_dict)\n",
    "\n",
    "# write cameras[185] to a json file\n",
    "with open('camera.json', 'w') as outfile:\n",
    "    json.dump(save_list, outfile)\n",
    "\n",
    "# for keycamera in keycameras:\n",
    "#     save_list.append(rotate_about_forward_direction(replace_w2c(save_list[-1], keycamera), np.pi/2))\n",
    "\n",
    "# for i in range(10):\n",
    "#     save_list.append(rotate_camera(point_camera_at_origin(save_list[-1])))\n"
   ]
  },
  {
   "cell_type": "code",
   "execution_count": 54,
   "metadata": {},
   "outputs": [
    {
     "data": {
      "text/plain": [
       "{'id': 185,\n",
       " 'img_name': '298626350910',\n",
       " 'width': 1000,\n",
       " 'height': 752,\n",
       " 'position': [0.196958, 0.362517, 3.118752],\n",
       " 'rotation': [[0.35803405629105667, 0.9315585717873832, -0.06332647049396699],\n",
       "  [-0.9273320764708398, 0.36268300133732523, 0.09228358732315443],\n",
       "  [-0.10893500118902552, -0.025684000280340846, -0.9937170108464213]],\n",
       " 'fy': 776.0253267729305,\n",
       " 'fx': 776.6956362332196}"
      ]
     },
     "execution_count": 54,
     "metadata": {},
     "output_type": "execute_result"
    }
   ],
   "source": [
    "rotate_about_forward_direction(start_dict, np.pi/2)"
   ]
  },
  {
   "attachments": {},
   "cell_type": "markdown",
   "metadata": {},
   "source": [
    "## Automatic Ground Plane Identification with RANSAC and Robust PCA"
   ]
  },
  {
   "cell_type": "code",
   "execution_count": 2,
   "metadata": {},
   "outputs": [
    {
     "name": "stdout",
     "output_type": "stream",
     "text": [
      "Collecting open3d\n",
      "  Downloading open3d-0.17.0-cp38-cp38-manylinux_2_27_x86_64.whl (420.5 MB)\n",
      "\u001b[2K     \u001b[90m━━━━━━━━━━━━━━━━━━━━━━━━━━━━━━━━━━━━━━\u001b[0m \u001b[32m420.5/420.5 MB\u001b[0m \u001b[31m13.7 MB/s\u001b[0m eta \u001b[36m0:00:00\u001b[0m00:01\u001b[0m00:01\u001b[0m\n",
      "\u001b[?25hRequirement already satisfied: numpy>=1.18.0 in /home/makramchahine/miniconda3/envs/multimodal/lib/python3.8/site-packages (from open3d) (1.19.5)\n",
      "Collecting dash>=2.6.0 (from open3d)\n",
      "  Downloading dash-2.14.1-py3-none-any.whl (10.4 MB)\n",
      "\u001b[2K     \u001b[90m━━━━━━━━━━━━━━━━━━━━━━━━━━━━━━━━━━━━━━━━\u001b[0m \u001b[32m10.4/10.4 MB\u001b[0m \u001b[31m53.9 MB/s\u001b[0m eta \u001b[36m0:00:00\u001b[0m00:01\u001b[0m0:01\u001b[0m\n",
      "\u001b[?25hRequirement already satisfied: werkzeug>=2.2.3 in /home/makramchahine/miniconda3/envs/multimodal/lib/python3.8/site-packages (from open3d) (2.3.1)\n",
      "Collecting nbformat==5.7.0 (from open3d)\n",
      "  Downloading nbformat-5.7.0-py3-none-any.whl (77 kB)\n",
      "\u001b[2K     \u001b[90m━━━━━━━━━━━━━━━━━━━━━━━━━━━━━━━━━━━━━━━━\u001b[0m \u001b[32m77.1/77.1 kB\u001b[0m \u001b[31m4.6 MB/s\u001b[0m eta \u001b[36m0:00:00\u001b[0m\n",
      "\u001b[?25hCollecting configargparse (from open3d)\n",
      "  Downloading ConfigArgParse-1.7-py3-none-any.whl (25 kB)\n",
      "Requirement already satisfied: ipywidgets>=8.0.4 in /home/makramchahine/miniconda3/envs/multimodal/lib/python3.8/site-packages (from open3d) (8.1.0)\n",
      "Collecting addict (from open3d)\n",
      "  Using cached addict-2.4.0-py3-none-any.whl (3.8 kB)\n",
      "Collecting pillow>=9.3.0 (from open3d)\n",
      "  Downloading Pillow-10.1.0-cp38-cp38-manylinux_2_28_x86_64.whl (3.6 MB)\n",
      "\u001b[2K     \u001b[90m━━━━━━━━━━━━━━━━━━━━━━━━━━━━━━━━━━━━━━━━\u001b[0m \u001b[32m3.6/3.6 MB\u001b[0m \u001b[31m46.3 MB/s\u001b[0m eta \u001b[36m0:00:00\u001b[0m00:01\u001b[0m00:01\u001b[0m\n",
      "\u001b[?25hRequirement already satisfied: matplotlib>=3 in /home/makramchahine/miniconda3/envs/multimodal/lib/python3.8/site-packages (from open3d) (3.5.3)\n",
      "Requirement already satisfied: pandas>=1.0 in /home/makramchahine/miniconda3/envs/multimodal/lib/python3.8/site-packages (from open3d) (1.4.4)\n",
      "Requirement already satisfied: pyyaml>=5.4.1 in /home/makramchahine/miniconda3/envs/multimodal/lib/python3.8/site-packages (from open3d) (6.0)\n",
      "Requirement already satisfied: scikit-learn>=0.21 in /home/makramchahine/miniconda3/envs/multimodal/lib/python3.8/site-packages (from open3d) (1.3.0)\n",
      "Requirement already satisfied: tqdm in /home/makramchahine/miniconda3/envs/multimodal/lib/python3.8/site-packages (from open3d) (4.66.1)\n",
      "Collecting pyquaternion (from open3d)\n",
      "  Using cached pyquaternion-0.9.9-py3-none-any.whl (14 kB)\n",
      "Collecting fastjsonschema (from nbformat==5.7.0->open3d)\n",
      "  Downloading fastjsonschema-2.18.1-py3-none-any.whl (23 kB)\n",
      "Requirement already satisfied: jsonschema>=2.6 in /home/makramchahine/miniconda3/envs/multimodal/lib/python3.8/site-packages (from nbformat==5.7.0->open3d) (4.17.3)\n",
      "Requirement already satisfied: jupyter-core in /home/makramchahine/miniconda3/envs/multimodal/lib/python3.8/site-packages (from nbformat==5.7.0->open3d) (5.3.0)\n",
      "Requirement already satisfied: traitlets>=5.1 in /home/makramchahine/miniconda3/envs/multimodal/lib/python3.8/site-packages (from nbformat==5.7.0->open3d) (5.9.0)\n",
      "Collecting Flask<3.1,>=1.0.4 (from dash>=2.6.0->open3d)\n",
      "  Downloading flask-3.0.0-py3-none-any.whl (99 kB)\n",
      "\u001b[2K     \u001b[90m━━━━━━━━━━━━━━━━━━━━━━━━━━━━━━━━━━━━━━━━\u001b[0m \u001b[32m99.7/99.7 kB\u001b[0m \u001b[31m3.9 MB/s\u001b[0m eta \u001b[36m0:00:00\u001b[0m\n",
      "\u001b[?25hRequirement already satisfied: plotly>=5.0.0 in /home/makramchahine/miniconda3/envs/multimodal/lib/python3.8/site-packages (from dash>=2.6.0->open3d) (5.14.1)\n",
      "Collecting dash-html-components==2.0.0 (from dash>=2.6.0->open3d)\n",
      "  Downloading dash_html_components-2.0.0-py3-none-any.whl (4.1 kB)\n",
      "Collecting dash-core-components==2.0.0 (from dash>=2.6.0->open3d)\n",
      "  Downloading dash_core_components-2.0.0-py3-none-any.whl (3.8 kB)\n",
      "Collecting dash-table==5.0.0 (from dash>=2.6.0->open3d)\n",
      "  Downloading dash_table-5.0.0-py3-none-any.whl (3.9 kB)\n",
      "Collecting typing-extensions>=4.1.1 (from dash>=2.6.0->open3d)\n",
      "  Using cached typing_extensions-4.8.0-py3-none-any.whl (31 kB)\n",
      "Requirement already satisfied: requests in /home/makramchahine/miniconda3/envs/multimodal/lib/python3.8/site-packages (from dash>=2.6.0->open3d) (2.29.0)\n",
      "Collecting retrying (from dash>=2.6.0->open3d)\n",
      "  Downloading retrying-1.3.4-py3-none-any.whl (11 kB)\n",
      "Collecting ansi2html (from dash>=2.6.0->open3d)\n",
      "  Downloading ansi2html-1.8.0-py3-none-any.whl (16 kB)\n",
      "Requirement already satisfied: nest-asyncio in /home/makramchahine/miniconda3/envs/multimodal/lib/python3.8/site-packages (from dash>=2.6.0->open3d) (1.5.6)\n",
      "Requirement already satisfied: setuptools in /home/makramchahine/miniconda3/envs/multimodal/lib/python3.8/site-packages (from dash>=2.6.0->open3d) (66.0.0)\n",
      "Requirement already satisfied: importlib-metadata in /home/makramchahine/miniconda3/envs/multimodal/lib/python3.8/site-packages (from dash>=2.6.0->open3d) (6.6.0)\n",
      "Requirement already satisfied: comm>=0.1.3 in /home/makramchahine/miniconda3/envs/multimodal/lib/python3.8/site-packages (from ipywidgets>=8.0.4->open3d) (0.1.4)\n",
      "Requirement already satisfied: ipython>=6.1.0 in /home/makramchahine/miniconda3/envs/multimodal/lib/python3.8/site-packages (from ipywidgets>=8.0.4->open3d) (8.12.0)\n",
      "Requirement already satisfied: widgetsnbextension~=4.0.7 in /home/makramchahine/miniconda3/envs/multimodal/lib/python3.8/site-packages (from ipywidgets>=8.0.4->open3d) (4.0.8)\n",
      "Requirement already satisfied: jupyterlab-widgets~=3.0.7 in /home/makramchahine/miniconda3/envs/multimodal/lib/python3.8/site-packages (from ipywidgets>=8.0.4->open3d) (3.0.8)\n",
      "Requirement already satisfied: cycler>=0.10 in /home/makramchahine/miniconda3/envs/multimodal/lib/python3.8/site-packages (from matplotlib>=3->open3d) (0.10.0)\n",
      "Requirement already satisfied: fonttools>=4.22.0 in /home/makramchahine/miniconda3/envs/multimodal/lib/python3.8/site-packages (from matplotlib>=3->open3d) (4.39.3)\n",
      "Requirement already satisfied: kiwisolver>=1.0.1 in /home/makramchahine/miniconda3/envs/multimodal/lib/python3.8/site-packages (from matplotlib>=3->open3d) (1.4.4)\n",
      "Requirement already satisfied: packaging>=20.0 in /home/makramchahine/miniconda3/envs/multimodal/lib/python3.8/site-packages (from matplotlib>=3->open3d) (23.1)\n",
      "Requirement already satisfied: pyparsing>=2.2.1 in /home/makramchahine/miniconda3/envs/multimodal/lib/python3.8/site-packages (from matplotlib>=3->open3d) (3.0.9)\n",
      "Requirement already satisfied: python-dateutil>=2.7 in /home/makramchahine/miniconda3/envs/multimodal/lib/python3.8/site-packages (from matplotlib>=3->open3d) (2.8.2)\n",
      "Requirement already satisfied: pytz>=2020.1 in /home/makramchahine/miniconda3/envs/multimodal/lib/python3.8/site-packages (from pandas>=1.0->open3d) (2023.3)\n",
      "Requirement already satisfied: scipy>=1.5.0 in /home/makramchahine/miniconda3/envs/multimodal/lib/python3.8/site-packages (from scikit-learn>=0.21->open3d) (1.7.3)\n",
      "Requirement already satisfied: joblib>=1.1.1 in /home/makramchahine/miniconda3/envs/multimodal/lib/python3.8/site-packages (from scikit-learn>=0.21->open3d) (1.3.1)\n",
      "Requirement already satisfied: threadpoolctl>=2.0.0 in /home/makramchahine/miniconda3/envs/multimodal/lib/python3.8/site-packages (from scikit-learn>=0.21->open3d) (3.2.0)\n",
      "Requirement already satisfied: MarkupSafe>=2.1.1 in /home/makramchahine/miniconda3/envs/multimodal/lib/python3.8/site-packages (from werkzeug>=2.2.3->open3d) (2.1.2)\n",
      "Requirement already satisfied: six in /home/makramchahine/miniconda3/envs/multimodal/lib/python3.8/site-packages (from cycler>=0.10->matplotlib>=3->open3d) (1.15.0)\n",
      "Collecting werkzeug>=2.2.3 (from open3d)\n",
      "  Downloading werkzeug-3.0.1-py3-none-any.whl (226 kB)\n",
      "\u001b[2K     \u001b[90m━━━━━━━━━━━━━━━━━━━━━━━━━━━━━━━━━━━━━━\u001b[0m \u001b[32m226.7/226.7 kB\u001b[0m \u001b[31m17.2 MB/s\u001b[0m eta \u001b[36m0:00:00\u001b[0m\n",
      "\u001b[?25hRequirement already satisfied: Jinja2>=3.1.2 in /home/makramchahine/miniconda3/envs/multimodal/lib/python3.8/site-packages (from Flask<3.1,>=1.0.4->dash>=2.6.0->open3d) (3.1.2)\n",
      "Collecting itsdangerous>=2.1.2 (from Flask<3.1,>=1.0.4->dash>=2.6.0->open3d)\n",
      "  Downloading itsdangerous-2.1.2-py3-none-any.whl (15 kB)\n",
      "Requirement already satisfied: click>=8.1.3 in /home/makramchahine/miniconda3/envs/multimodal/lib/python3.8/site-packages (from Flask<3.1,>=1.0.4->dash>=2.6.0->open3d) (8.1.3)\n",
      "Collecting blinker>=1.6.2 (from Flask<3.1,>=1.0.4->dash>=2.6.0->open3d)\n",
      "  Downloading blinker-1.7.0-py3-none-any.whl (13 kB)\n",
      "Requirement already satisfied: zipp>=0.5 in /home/makramchahine/.local/lib/python3.8/site-packages (from importlib-metadata->dash>=2.6.0->open3d) (3.6.0)\n",
      "Requirement already satisfied: backcall in /home/makramchahine/miniconda3/envs/multimodal/lib/python3.8/site-packages (from ipython>=6.1.0->ipywidgets>=8.0.4->open3d) (0.2.0)\n",
      "Requirement already satisfied: decorator in /home/makramchahine/miniconda3/envs/multimodal/lib/python3.8/site-packages (from ipython>=6.1.0->ipywidgets>=8.0.4->open3d) (5.1.1)\n",
      "Requirement already satisfied: jedi>=0.16 in /home/makramchahine/miniconda3/envs/multimodal/lib/python3.8/site-packages (from ipython>=6.1.0->ipywidgets>=8.0.4->open3d) (0.18.2)\n",
      "Requirement already satisfied: matplotlib-inline in /home/makramchahine/miniconda3/envs/multimodal/lib/python3.8/site-packages (from ipython>=6.1.0->ipywidgets>=8.0.4->open3d) (0.1.6)\n",
      "Requirement already satisfied: pickleshare in /home/makramchahine/miniconda3/envs/multimodal/lib/python3.8/site-packages (from ipython>=6.1.0->ipywidgets>=8.0.4->open3d) (0.7.5)\n",
      "Requirement already satisfied: prompt-toolkit!=3.0.37,<3.1.0,>=3.0.30 in /home/makramchahine/miniconda3/envs/multimodal/lib/python3.8/site-packages (from ipython>=6.1.0->ipywidgets>=8.0.4->open3d) (3.0.38)\n",
      "Requirement already satisfied: pygments>=2.4.0 in /home/makramchahine/miniconda3/envs/multimodal/lib/python3.8/site-packages (from ipython>=6.1.0->ipywidgets>=8.0.4->open3d) (2.15.1)\n",
      "Requirement already satisfied: stack-data in /home/makramchahine/miniconda3/envs/multimodal/lib/python3.8/site-packages (from ipython>=6.1.0->ipywidgets>=8.0.4->open3d) (0.6.2)\n",
      "Requirement already satisfied: pexpect>4.3 in /home/makramchahine/miniconda3/envs/multimodal/lib/python3.8/site-packages (from ipython>=6.1.0->ipywidgets>=8.0.4->open3d) (4.8.0)\n",
      "Requirement already satisfied: attrs>=17.4.0 in /home/makramchahine/miniconda3/envs/multimodal/lib/python3.8/site-packages (from jsonschema>=2.6->nbformat==5.7.0->open3d) (23.1.0)\n",
      "Requirement already satisfied: importlib-resources>=1.4.0 in /home/makramchahine/miniconda3/envs/multimodal/lib/python3.8/site-packages (from jsonschema>=2.6->nbformat==5.7.0->open3d) (5.12.0)\n",
      "Requirement already satisfied: pkgutil-resolve-name>=1.3.10 in /home/makramchahine/miniconda3/envs/multimodal/lib/python3.8/site-packages (from jsonschema>=2.6->nbformat==5.7.0->open3d) (1.3.10)\n",
      "Requirement already satisfied: pyrsistent!=0.17.0,!=0.17.1,!=0.17.2,>=0.14.0 in /home/makramchahine/miniconda3/envs/multimodal/lib/python3.8/site-packages (from jsonschema>=2.6->nbformat==5.7.0->open3d) (0.19.3)\n",
      "Requirement already satisfied: tenacity>=6.2.0 in /home/makramchahine/miniconda3/envs/multimodal/lib/python3.8/site-packages (from plotly>=5.0.0->dash>=2.6.0->open3d) (8.2.2)\n",
      "Requirement already satisfied: platformdirs>=2.5 in /home/makramchahine/miniconda3/envs/multimodal/lib/python3.8/site-packages (from jupyter-core->nbformat==5.7.0->open3d) (3.5.3)\n",
      "Requirement already satisfied: charset-normalizer<4,>=2 in /home/makramchahine/miniconda3/envs/multimodal/lib/python3.8/site-packages (from requests->dash>=2.6.0->open3d) (3.1.0)\n",
      "Requirement already satisfied: idna<4,>=2.5 in /home/makramchahine/miniconda3/envs/multimodal/lib/python3.8/site-packages (from requests->dash>=2.6.0->open3d) (3.4)\n",
      "Requirement already satisfied: urllib3<1.27,>=1.21.1 in /home/makramchahine/miniconda3/envs/multimodal/lib/python3.8/site-packages (from requests->dash>=2.6.0->open3d) (1.26.15)\n",
      "Requirement already satisfied: certifi>=2017.4.17 in /home/makramchahine/miniconda3/envs/multimodal/lib/python3.8/site-packages (from requests->dash>=2.6.0->open3d) (2022.12.7)\n",
      "Requirement already satisfied: parso<0.9.0,>=0.8.0 in /home/makramchahine/miniconda3/envs/multimodal/lib/python3.8/site-packages (from jedi>=0.16->ipython>=6.1.0->ipywidgets>=8.0.4->open3d) (0.8.3)\n",
      "Requirement already satisfied: ptyprocess>=0.5 in /home/makramchahine/miniconda3/envs/multimodal/lib/python3.8/site-packages (from pexpect>4.3->ipython>=6.1.0->ipywidgets>=8.0.4->open3d) (0.7.0)\n",
      "Requirement already satisfied: wcwidth in /home/makramchahine/miniconda3/envs/multimodal/lib/python3.8/site-packages (from prompt-toolkit!=3.0.37,<3.1.0,>=3.0.30->ipython>=6.1.0->ipywidgets>=8.0.4->open3d) (0.2.6)\n",
      "Requirement already satisfied: executing>=1.2.0 in /home/makramchahine/miniconda3/envs/multimodal/lib/python3.8/site-packages (from stack-data->ipython>=6.1.0->ipywidgets>=8.0.4->open3d) (1.2.0)\n",
      "Requirement already satisfied: asttokens>=2.1.0 in /home/makramchahine/miniconda3/envs/multimodal/lib/python3.8/site-packages (from stack-data->ipython>=6.1.0->ipywidgets>=8.0.4->open3d) (2.2.1)\n",
      "Requirement already satisfied: pure-eval in /home/makramchahine/miniconda3/envs/multimodal/lib/python3.8/site-packages (from stack-data->ipython>=6.1.0->ipywidgets>=8.0.4->open3d) (0.2.2)\n",
      "Installing collected packages: fastjsonschema, dash-table, dash-html-components, dash-core-components, addict, werkzeug, typing-extensions, retrying, pyquaternion, pillow, itsdangerous, configargparse, blinker, ansi2html, Flask, nbformat, dash, open3d\n",
      "  Attempting uninstall: werkzeug\n",
      "    Found existing installation: Werkzeug 2.3.1\n",
      "    Uninstalling Werkzeug-2.3.1:\n",
      "      Successfully uninstalled Werkzeug-2.3.1\n",
      "  Attempting uninstall: typing-extensions\n",
      "    Found existing installation: typing-extensions 3.7.4.3\n",
      "    Uninstalling typing-extensions-3.7.4.3:\n",
      "      Successfully uninstalled typing-extensions-3.7.4.3\n",
      "  Attempting uninstall: pillow\n",
      "    Found existing installation: Pillow 9.0.1\n",
      "    Uninstalling Pillow-9.0.1:\n",
      "      Successfully uninstalled Pillow-9.0.1\n",
      "\u001b[31mERROR: pip's dependency resolver does not currently take into account all the packages that are installed. This behaviour is the source of the following dependency conflicts.\n",
      "aiohttp 3.7.4.post0 requires chardet<5.0,>=2.0, which is not installed.\n",
      "pyrender 0.1.45 requires trimesh, which is not installed.\n",
      "aiohttp 3.7.4.post0 requires async-timeout<4.0,>=3.0, but you have async-timeout 4.0.2 which is incompatible.\n",
      "gym-pybullet-drones 0.0.3 requires numpy<2.0,>=1.22, but you have numpy 1.19.5 which is incompatible.\n",
      "gym-pybullet-drones 0.0.3 requires Pillow<10.0,>=9.0, but you have pillow 10.1.0 which is incompatible.\n",
      "gym-pybullet-drones 0.0.3 requires scipy<2.0,>=1.8, but you have scipy 1.7.3 which is incompatible.\n",
      "scikit-image 0.20.0 requires numpy>=1.21.1, but you have numpy 1.19.5 which is incompatible.\n",
      "scikit-image 0.20.0 requires scipy<1.9.2,>=1.8; python_version <= \"3.9\", but you have scipy 1.7.3 which is incompatible.\n",
      "tensorflow 2.4.4 requires typing-extensions~=3.7.4, but you have typing-extensions 4.8.0 which is incompatible.\u001b[0m\u001b[31m\n",
      "\u001b[0mSuccessfully installed Flask-3.0.0 addict-2.4.0 ansi2html-1.8.0 blinker-1.7.0 configargparse-1.7 dash-2.14.1 dash-core-components-2.0.0 dash-html-components-2.0.0 dash-table-5.0.0 fastjsonschema-2.18.1 itsdangerous-2.1.2 nbformat-5.7.0 open3d-0.17.0 pillow-10.1.0 pyquaternion-0.9.9 retrying-1.3.4 typing-extensions-4.6.3 werkzeug-3.0.1\n",
      "\n",
      "\u001b[1m[\u001b[0m\u001b[34;49mnotice\u001b[0m\u001b[1;39;49m]\u001b[0m\u001b[39;49m A new release of pip is available: \u001b[0m\u001b[31;49m23.1.2\u001b[0m\u001b[39;49m -> \u001b[0m\u001b[32;49m23.3.1\u001b[0m\n",
      "\u001b[1m[\u001b[0m\u001b[34;49mnotice\u001b[0m\u001b[1;39;49m]\u001b[0m\u001b[39;49m To update, run: \u001b[0m\u001b[32;49mpip install --upgrade pip\u001b[0m\n"
     ]
    }
   ],
   "source": [
    "!pip install open3d"
   ]
  },
  {
   "cell_type": "code",
   "execution_count": 3,
   "metadata": {},
   "outputs": [
    {
     "name": "stdout",
     "output_type": "stream",
     "text": [
      "Jupyter environment detected. Enabling Open3D WebVisualizer.\n",
      "[Open3D INFO] WebRTC GUI backend enabled.\n",
      "[Open3D INFO] WebRTCWindowSystem: HTTP handshake server disabled.\n",
      "Plane normal: [ 27.14537625 -11.1700948   -2.30138547]\n",
      "Plane offset: 82.85393914396704\n",
      "Number of inliers: 100428\n"
     ]
    }
   ],
   "source": [
    "import numpy as np\n",
    "import open3d as o3d\n",
    "\n",
    "def fit_plane(points, threshold=0.05, max_iterations=1000):\n",
    "    best_plane = None\n",
    "    best_inliers = []\n",
    "\n",
    "    for _ in range(max_iterations):\n",
    "        # Randomly select 3 points from the point cloud\n",
    "        sample_points = points[np.random.choice(points.shape[0], 3, replace=False)]\n",
    "\n",
    "        # Calculate the plane parameters for these points\n",
    "        # The plane equation is ax + by + cz + d = 0\n",
    "        # [a, b, c] is the normal to the plane\n",
    "        vec1 = sample_points[1] - sample_points[0]\n",
    "        vec2 = sample_points[2] - sample_points[0]\n",
    "        normal = np.cross(vec1, vec2)\n",
    "        d = -sample_points[0].dot(normal)\n",
    "\n",
    "        # Evaluate how many points lie close to this plane\n",
    "        distances = abs(np.dot(points, normal) + d) / np.linalg.norm(normal)\n",
    "        inliers = np.where(distances < threshold)[0]\n",
    "\n",
    "        # Update the best plane if this plane has more inliers than previous best\n",
    "        if len(inliers) > len(best_inliers):\n",
    "            best_inliers = inliers\n",
    "            best_plane = (normal, d)\n",
    "\n",
    "    return best_plane, best_inliers\n",
    "\n",
    "# Load the point cloud\n",
    "pcd = o3d.io.read_point_cloud(\"/home/makramchahine/repos/gaussian-splatting/output/holodeck2/point_cloud/iteration_30000/point_cloud.ply\")\n",
    "points = np.asarray(pcd.points)\n",
    "\n",
    "# Fit the ground plane using RANSAC\n",
    "plane, inliers = fit_plane(points)\n",
    "\n",
    "print(\"Plane normal:\", plane[0])\n",
    "print(\"Plane offset:\", plane[1])\n",
    "print(\"Number of inliers:\", len(inliers))\n"
   ]
  },
  {
   "cell_type": "code",
   "execution_count": 4,
   "metadata": {},
   "outputs": [
    {
     "name": "stdout",
     "output_type": "stream",
     "text": [
      "[ 0.92193783 -0.37936969 -0.07816191]\n"
     ]
    }
   ],
   "source": [
    "# normalize plane normal\n",
    "plane_normal = plane[0] / np.linalg.norm(plane[0])\n",
    "print(plane_normal)"
   ]
  },
  {
   "cell_type": "code",
   "execution_count": null,
   "metadata": {},
   "outputs": [],
   "source": []
  }
 ],
 "metadata": {
  "kernelspec": {
   "display_name": "gaussian_splatting",
   "language": "python",
   "name": "python3"
  },
  "language_info": {
   "codemirror_mode": {
    "name": "ipython",
    "version": 3
   },
   "file_extension": ".py",
   "mimetype": "text/x-python",
   "name": "python",
   "nbconvert_exporter": "python",
   "pygments_lexer": "ipython3",
   "version": "3.8.16"
  },
  "orig_nbformat": 4
 },
 "nbformat": 4,
 "nbformat_minor": 2
}
