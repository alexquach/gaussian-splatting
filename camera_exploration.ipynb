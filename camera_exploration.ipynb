{
 "cells": [
  {
   "cell_type": "code",
   "execution_count": 46,
   "metadata": {},
   "outputs": [
    {
     "data": {
      "text/plain": [
       "{'id': 0,\n",
       " 'img_name': '298456599719',\n",
       " 'width': 1000,\n",
       " 'height': 752,\n",
       " 'position': [0.08193568363403268, 0.08856146833243739, 2.219895699143833],\n",
       " 'rotation': [[0.9265081698155152, 0.2398760023461936, 0.28990018068899803],\n",
       "  [-0.3724999446230232, 0.6935827285981536, 0.6165928882546281],\n",
       "  [-0.053163921233759445, -0.6792661496709141, 0.7319638620794758]],\n",
       " 'fy': 776.0253267729305,\n",
       " 'fx': 776.6956362332196}"
      ]
     },
     "execution_count": 46,
     "metadata": {},
     "output_type": "execute_result"
    }
   ],
   "source": [
    "import json\n",
    "import numpy as np\n",
    "\n",
    "\n",
    "camera_json_path = \"/home/makramchahine/repos/gaussian-splatting/output/holodeck2/cameras.json\"\n",
    "with open(camera_json_path) as f:\n",
    "    cameras = json.load(f)\n",
    "\n",
    "cameras[0]"
   ]
  },
  {
   "attachments": {},
   "cell_type": "markdown",
   "metadata": {},
   "source": [
    "### Helpers"
   ]
  },
  {
   "cell_type": "code",
   "execution_count": 6,
   "metadata": {},
   "outputs": [],
   "source": [
    "def get_pos_rot(camera_dict):\n",
    "    return np.array(camera_dict['position'].copy()), np.array(camera_dict['rotation'].copy())\n",
    "\n",
    "def process_keycamera_to_W2C(keycamera_dict):\n",
    "    origin = np.array(keycamera_dict['origin'])\n",
    "    up = np.array(keycamera_dict['up'])\n",
    "    target = np.array(keycamera_dict['target'])\n",
    "\n",
    "    forward_direction = target - origin + manual_adjustment\n",
    "    forward_direction = forward_direction / np.linalg.norm(forward_direction)\n",
    "\n",
    "    right_direction = np.cross(up, forward_direction)\n",
    "    right_direction = right_direction / np.linalg.norm(right_direction)\n",
    "\n",
    "    up_direction = np.cross(forward_direction, right_direction)\n",
    "    up_direction = up_direction / np.linalg.norm(up_direction)\n",
    "\n",
    "    rot = np.array([up_direction, right_direction, forward_direction])\n",
    "\n",
    "    return {\n",
    "        'position': origin.tolist(),\n",
    "        'rotation': rot.tolist()\n",
    "    }\n",
    "\n",
    "def parse_keycamera(file_path):\n",
    "    with open(file_path, 'r') as file:\n",
    "        data = file.readlines()\n",
    "    parsed_data = []\n",
    "    for line in data:\n",
    "        line = line.strip().split('-D')\n",
    "        line_dict = {}\n",
    "        for item in line:\n",
    "            output = item.split('=')\n",
    "            if len(output) == 2:\n",
    "                key, value = output\n",
    "                key = key.strip()\n",
    "                # if value has commas, convert it to a list\n",
    "                if ',' in value:\n",
    "                    value = value.split(',')\n",
    "                    value = [float(v) for v in value]\n",
    "                else:\n",
    "                    value = float(value)\n",
    "                \n",
    "                line_dict[key] = value\n",
    "        parsed_data.append(line_dict)\n",
    "    return parsed_data\n",
    "\n",
    "def replace_w2c(camera_dict, keycamera_dict):\n",
    "    new_dict = camera_dict.copy()\n",
    "    new_dict['position'] = keycamera_dict['position']\n",
    "    new_dict['rotation'] = keycamera_dict['rotation']\n",
    "    return new_dict\n",
    "\n",
    "def get_forward_direction(camera_dict):\n",
    "    return np.array(camera_dict['rotation'][2]).copy()\n",
    "\n",
    "def move_forward(start_dict, distance):\n",
    "    new_dict = start_dict.copy()\n",
    "    rot = np.array(new_dict['rotation'])\n",
    "    pos = np.array(new_dict['position'])\n",
    "    \n",
    "    forward_direction = rot[:, 2]\n",
    "    pos = pos + forward_direction * distance\n",
    "    new_dict['position'] = pos.tolist()\n",
    "    return new_dict\n",
    "\n",
    "def rise_relative_to_camera(start_dict, distance):\n",
    "    new_dict = start_dict.copy()\n",
    "    rot = np.array(new_dict['rotation'])\n",
    "    pos = np.array(new_dict['position'])\n",
    "    \n",
    "    up_direction = -rot[:, 0]\n",
    "    pos = pos + up_direction * distance\n",
    "    new_dict['position'] = pos.tolist()\n",
    "    return new_dict\n",
    "\n",
    "def rotate_relative_to_camera(start_dict, angle):\n",
    "    new_dict = start_dict.copy()\n",
    "    rot = np.array(new_dict['rotation'])\n",
    "    pos = np.array(new_dict['position'])\n",
    "    \n",
    "    rot = rot @ np.array([[np.cos(angle), 0, np.sin(angle)], [0, 1, 0], [-np.sin(angle), 0, np.cos(angle)]])\n",
    "    new_dict['rotation'] = rot.tolist()\n",
    "    return new_dict\n",
    "\n",
    "def point_camera_at(start_dict, point):\n",
    "    new_dict = start_dict.copy()\n",
    "    rot = np.array(new_dict['rotation'])\n",
    "    pos = np.array(new_dict['position'])\n",
    "    \n",
    "    forward_direction = point - pos\n",
    "    forward_direction = forward_direction / np.linalg.norm(forward_direction)\n",
    "\n",
    "    up_direction = np.array([1, 0, 0])\n",
    "    right_direction = np.cross(up_direction, forward_direction)\n",
    "    right_direction = right_direction / np.linalg.norm(right_direction)\n",
    "\n",
    "    up_direction = np.cross(forward_direction, right_direction)\n",
    "    up_direction = up_direction / np.linalg.norm(up_direction)\n",
    "    \n",
    "    # import itertools\n",
    "    # import random\n",
    "    # order = random.sample(list(itertools.permutations([up_direction, right_direction, forward_direction], 3)), 1)\n",
    "    # print(order)\n",
    "    rot = np.array([up_direction, right_direction, forward_direction])\n",
    "    new_dict['rotation'] = rot.tolist()\n",
    "    return new_dict\n",
    "\n",
    "def point_camera_at_origin(start_dict):\n",
    "    return point_camera_at(start_dict, np.array([0, 0, 0]))\n",
    "\n",
    "def place_camera_at(start_dict, point):\n",
    "    new_dict = start_dict.copy()\n",
    "    new_dict['position'] = point.tolist()\n",
    "    return new_dict\n",
    "\n",
    "def rotate_camera(start_dict):\n",
    "    new_dict = start_dict.copy()\n",
    "    pos, rot = get_pos_rot(start_dict)\n",
    "    \n",
    "    up_vector = -rot[:, 0]\n",
    "    up_plane = np.array([1, 0, 0])  # Assuming the up plane is the y-axis\n",
    "    \n",
    "    # Calculate the angle between the camera's up vector and the up plane\n",
    "    angle = np.arccos(np.dot(up_vector, up_plane) / (np.linalg.norm(up_vector) * np.linalg.norm(up_plane)))\n",
    "    \n",
    "    # Rotate the camera by the calculated angle around the cross product of the up vector and the up plane\n",
    "    rotation_axis = np.cross(up_vector, up_plane)\n",
    "    rotation_matrix = np.array([[np.cos(angle) + rotation_axis[0]**2 * (1 - np.cos(angle)), rotation_axis[0] * rotation_axis[1] * (1 - np.cos(angle)) - rotation_axis[2] * np.sin(angle), rotation_axis[0] * rotation_axis[2] * (1 - np.cos(angle)) + rotation_axis[1] * np.sin(angle)],\n",
    "                                [rotation_axis[1] * rotation_axis[0] * (1 - np.cos(angle)) + rotation_axis[2] * np.sin(angle), np.cos(angle) + rotation_axis[1]**2 * (1 - np.cos(angle)), rotation_axis[1] * rotation_axis[2] * (1 - np.cos(angle)) - rotation_axis[0] * np.sin(angle)],\n",
    "                                [rotation_axis[2] * rotation_axis[0] * (1 - np.cos(angle)) - rotation_axis[1] * np.sin(angle), rotation_axis[2] * rotation_axis[1] * (1 - np.cos(angle)) + rotation_axis[0] * np.sin(angle), np.cos(angle) + rotation_axis[2]**2 * (1 - np.cos(angle))]])\n",
    "    \n",
    "    # Apply the rotation to the camera's position and up vector\n",
    "    new_dict['position'] = (np.dot(rotation_matrix, pos)).tolist()\n",
    "    new_dict['rotation'] = (rotation_matrix @ rot).tolist()\n",
    "    # rot = np.dot(rotation_matrix, up_vector)\n",
    "    # rot = rot / np.linalg.norm(rot)\n",
    "\n",
    "    # new_dict['rotation'] = np.array([rot, np.cross(rot, np.array([0, 1, 0])), np.array([0, 1, 0])]).tolist()\n",
    "\n",
    "    return new_dict\n",
    "\n",
    "\n",
    "\n",
    "def rotate_about_forward_direction(start_dict, angle):\n",
    "    new_dict = start_dict.copy()\n",
    "    pos, rot = get_pos_rot(start_dict)\n",
    "\n",
    "    # Define the rotation matrix for counterclockwise rotation about the forward direction\n",
    "    rotation_matrix = np.array([[np.cos(angle), -np.sin(angle), 0], \n",
    "                                [np.sin(angle), np.cos(angle), 0],\n",
    "                                [0, 0, 1]])\n",
    "\n",
    "    # Apply the rotation to the camera's rotation matrix\n",
    "    new_dict['rotation'] = (rotation_matrix @ rot).tolist()\n",
    "\n",
    "    return new_dict\n",
    "\n",
    "# def interpolate(start_dict, end_dict, num_frames):\n",
    "#     start_pos, start_rot = get_pos_rot(start_dict)\n",
    "#     end_pos, end_rot = get_pos_rot(end_dict)\n",
    "\n",
    "#     pos_list = np.linspace(start_pos, end_pos, num_frames)\n",
    "#     rot_list = np.linspace(start_rot, end_rot, num_frames)\n",
    "\n",
    "#     dicts = []\n",
    "#     for i in range(num_frames):\n",
    "#         new_dict = start_dict.copy()\n",
    "#         new_dict['position'] = pos_list[i].tolist()\n",
    "#         new_dict['rotation'] = rot_list[i].tolist()\n",
    "#         dicts.append(new_dict)\n",
    "\n",
    "#     return dicts\n",
    "\n",
    "# interpolated = interpolate(keycameras[0], keycameras[1], 10)\n",
    "\n",
    "# for interpolate_dict in interpolated:\n",
    "#     save_list.append(rotate_about_forward_direction(replace_w2c(save_list[-1], interpolate_dict), np.pi/2))\n",
    "\n",
    "def rotate_about_up_direction(rot, angle):\n",
    "    # Define the rotation matrix for counterclockwise rotation about the up direction\n",
    "    rotation_matrix = np.array([\n",
    "                                # [1, 0, 0],\n",
    "                                # [0, np.cos(angle), -np.sin(angle)], \n",
    "                                # [0, np.sin(angle), np.cos(angle)],\n",
    "                                [np.cos(angle), 0, -np.sin(angle)], \n",
    "                                [0, 1, 0],\n",
    "                                [np.sin(angle), 0, np.cos(angle)],\n",
    "                                ])\n",
    "\n",
    "    # rotate on first row, is close to up direction\n",
    "    # rotate on second row, is close to right direction\n",
    "    # rotate on third row, is forward direction\n",
    "\n",
    "\n",
    "    # Apply the rotation to the camera's rotation matrix\n",
    "    new_rot = (rot @ rotation_matrix)\n",
    "    # print(new_rot)\n",
    "    return new_rot\n",
    "\n",
    "def rotate_camera_dict_about_up_direction(camera_dict, angle):\n",
    "    new_dict = camera_dict.copy()\n",
    "    pos, rot = get_pos_rot(camera_dict)\n",
    "\n",
    "    new_dict['rotation'] = rotate_about_up_direction(rot, angle).tolist()\n",
    "\n",
    "    return new_dict\n",
    "\n",
    "def dist_from_origin(camera_dict):\n",
    "    pos, rot = get_pos_rot(camera_dict)\n",
    "    return np.linalg.norm(pos)\n",
    "\n",
    "def flip_camera(start_dict):\n",
    "    new_dict = start_dict.copy()\n",
    "    pos, rot = get_pos_rot(start_dict)\n",
    "\n",
    "    # Define the rotation matrix for counterclockwise rotation about the forward direction\n",
    "    rotation_matrix = np.array([[1, 0, 0], \n",
    "                                [0, 1, 0],\n",
    "                                [0, 0, -1]])\n",
    "\n",
    "    # Apply the rotation to the camera's rotation matrix\n",
    "    new_dict['rotation'] = (rot @ rotation_matrix).tolist()\n",
    "\n",
    "    return new_dict\n",
    "\n",
    "def camera_diff(camera1, camera2):\n",
    "    pos1, rot1 = get_pos_rot(camera1)\n",
    "    pos2, rot2 = get_pos_rot(camera2)\n",
    "\n",
    "    pos_diff = pos1 - pos2\n",
    "    rot_diff = rot1 - rot2\n",
    "\n",
    "    print(\"Position difference: \", pos_diff)\n",
    "    print(\"Rotation difference: \", rot_diff)\n",
    "\n",
    "# camera_diff(keycameras[2], flip_camera(keycameras[2]))"
   ]
  },
  {
   "attachments": {},
   "cell_type": "markdown",
   "metadata": {},
   "source": [
    "## Load cameras, keycameras"
   ]
  },
  {
   "cell_type": "code",
   "execution_count": 38,
   "metadata": {},
   "outputs": [
    {
     "name": "stdout",
     "output_type": "stream",
     "text": [
      "[{'origin': [-0.60674, -0.077124, -3.563149], 'target': [-0.489422, -0.00529, -2.572657], 'up': [-0.928382, 0.362077, 0.083703], 'fovy': 51.702257, 'clip': [0.009, 1100.0]}, {'origin': [-0.189939, 0.178081, -0.044188], 'target': [-0.072621, 0.249914, 0.946304], 'up': [-0.928382, 0.362077, 0.083703], 'fovy': 51.702257, 'clip': [0.009, 1100.0]}, {'origin': [0.196958, 0.362517, 3.118752], 'target': [0.088023, 0.336833, 2.125035], 'up': [-0.927332, 0.362683, 0.092284], 'fovy': 51.702257, 'clip': [0.009, 1100.0]}, {'origin': [0.196958, 0.362517, 3.118752], 'target': [-0.158984, -0.568402, 3.200573], 'up': [-0.927332, 0.362682, 0.092283], 'fovy': 51.702257, 'clip': [0.009, 1100.0]}]\n",
      "{'position': [-0.38660632386109883, -0.16297803535973865, -3.5829962709443466], 'rotation': [[-0.9319829406852845, 0.35934124507855125, 0.047766807063129246], [0.35297931211899614, 0.9295914969721032, -0.10613790073844773], [0.08254334308476943, 0.08205801814911717, 0.993203442487907]]}\n",
      "{'position': [0.030195518539730543, 0.09222663609666062, -0.06403534689527701], 'rotation': [[-0.9319828990198882, 0.3593413060457464, 0.04776716135403172], [0.3529794205412431, 0.9295915613230362, -0.10613697655090809], [0.08254334987661381, 0.08205702216347505, 0.9932035242108286]]}\n",
      "{'position': [0.41640574541611985, 0.27669016920935047, 3.0969135260360035], 'rotation': [[-0.9227777583565616, 0.3634789220017584, 0.12792295315102395], [-0.357683168005487, -0.9314714935946332, 0.06651020933767658], [-0.14333164342879057, -0.015618254736771106, -0.9895514691571023]]}\n",
      "{'position': [0.4164025171239756, 0.27669166844716053, 3.096914083942157], 'rotation': [[-0.9139234510751211, 0.3959161926082035, 0.08941081593165734], [0.11429960180388488, 0.03967277900436026, 0.9926538528780032], [-0.38946055846826666, -0.9174292556032292, 0.08151094626423339]]}\n"
     ]
    }
   ],
   "source": [
    "manual_adjustment = np.array([-0.035, 0.01, 0])\n",
    "# manual_adjustment = np.array([0, 0, 0])\n",
    "def process_keycamera_to_W2C(keycamera_dict):\n",
    "    origin = np.array(keycamera_dict['origin'])\n",
    "    up = np.array(keycamera_dict['up'])\n",
    "    target = np.array(keycamera_dict['target'])\n",
    "\n",
    "    forward_direction = target - origin + manual_adjustment\n",
    "    forward_direction = forward_direction / np.linalg.norm(forward_direction)\n",
    "\n",
    "    right_direction = np.cross(up, forward_direction)\n",
    "    right_direction = right_direction / np.linalg.norm(right_direction)\n",
    "\n",
    "    up_direction = np.cross(forward_direction, right_direction)\n",
    "    up_direction = up_direction / np.linalg.norm(up_direction)\n",
    "\n",
    "    rot = np.array([up_direction, right_direction, forward_direction])\n",
    "\n",
    "    # project origin onto plane defined by up direction\n",
    "    origin = origin - np.dot(origin, up) * up\n",
    "\n",
    "    return {\n",
    "        'position': origin.tolist(),\n",
    "        'rotation': rot.tolist()\n",
    "    }\n",
    "\n",
    "file_path = \"./key_cameras_4\"\n",
    "parsed_data = parse_keycamera(file_path)\n",
    "print(parsed_data)\n",
    "\n",
    "for keycamera in parsed_data:\n",
    "    print(process_keycamera_to_W2C(keycamera))\n",
    "\n",
    "keycameras = [process_keycamera_to_W2C(keycamera) for keycamera in parsed_data]"
   ]
  },
  {
   "attachments": {},
   "cell_type": "markdown",
   "metadata": {},
   "source": [
    "### Helpers"
   ]
  },
  {
   "cell_type": "code",
   "execution_count": 10,
   "metadata": {},
   "outputs": [
    {
     "data": {
      "text/plain": [
       "{'position': [0.196958, 0.362517, 3.118752],\n",
       " 'rotation': [[-0.9273320764708398, 0.3626830013373253, 0.09228358732315443],\n",
       "  [-0.3580340562910567, -0.9315585717873832, 0.06332647049396699],\n",
       "  [-0.10893500118902552, -0.025684000280340846, -0.9937170108464213]]}"
      ]
     },
     "execution_count": 10,
     "metadata": {},
     "output_type": "execute_result"
    }
   ],
   "source": [
    "keycameras[2]"
   ]
  },
  {
   "cell_type": "code",
   "execution_count": 95,
   "metadata": {},
   "outputs": [
    {
     "data": {
      "text/plain": [
       "{'position': [0.196958, 0.362517, 3.118752],\n",
       " 'rotation': [[-0.9273320764708398, 0.3626830013373253, -0.09228358732315443],\n",
       "  [-0.3580340562910567, -0.9315585717873832, -0.06332647049396699],\n",
       "  [-0.10893500118902552, -0.025684000280340846, 0.9937170108464213]]}"
      ]
     },
     "execution_count": 95,
     "metadata": {},
     "output_type": "execute_result"
    }
   ],
   "source": [
    "flip_camera(keycameras[2])"
   ]
  },
  {
   "cell_type": "code",
   "execution_count": 96,
   "metadata": {},
   "outputs": [
    {
     "data": {
      "text/plain": [
       "{'position': [0.196958, 0.362517, 3.118752],\n",
       " 'rotation': [[0.35803405629105667, 0.9315585717873832, 0.06332647049396699],\n",
       "  [-0.9273320764708398, 0.36268300133732523, -0.09228358732315443],\n",
       "  [-0.10893500118902552, -0.025684000280340846, 0.9937170108464213]]}"
      ]
     },
     "execution_count": 96,
     "metadata": {},
     "output_type": "execute_result"
    }
   ],
   "source": [
    "rotate_about_forward_direction(flip_camera(keycameras[2]), np.pi/2)"
   ]
  },
  {
   "cell_type": "code",
   "execution_count": 97,
   "metadata": {},
   "outputs": [
    {
     "data": {
      "text/plain": [
       "{'position': [0.196958, 0.362517, 3.118752],\n",
       " 'rotation': [[0.35803405629105667, 0.9315585717873832, -0.06332647049396699],\n",
       "  [-0.9273320764708398, 0.36268300133732523, 0.09228358732315443],\n",
       "  [-0.10893500118902552, -0.025684000280340846, -0.9937170108464213]]}"
      ]
     },
     "execution_count": 97,
     "metadata": {},
     "output_type": "execute_result"
    }
   ],
   "source": [
    "rotate_about_forward_direction(keycameras[2], np.pi/2)"
   ]
  },
  {
   "cell_type": "code",
   "execution_count": 28,
   "metadata": {},
   "outputs": [
    {
     "data": {
      "text/plain": [
       "array([ 0.93116539,  0.36369923, -0.02557109])"
      ]
     },
     "execution_count": 28,
     "metadata": {},
     "output_type": "execute_result"
    }
   ],
   "source": [
    "# UP_VECTOR\n",
    "np.array(rotate_about_forward_direction(keycameras[2], np.pi/2)['rotation'])[:, 1]\n",
    "#OLD (keycamera2): array([ 0.93155857,  0.362683  , -0.025684  ])\n",
    "#NEW (keycamera2): array([ 0.93149278,  0.36375419, -0.00202001])z"
   ]
  },
  {
   "cell_type": "code",
   "execution_count": 38,
   "metadata": {},
   "outputs": [],
   "source": []
  },
  {
   "attachments": {},
   "cell_type": "markdown",
   "metadata": {},
   "source": [
    "## Generate Camera.json"
   ]
  },
  {
   "cell_type": "code",
   "execution_count": 47,
   "metadata": {},
   "outputs": [
    {
     "name": "stdout",
     "output_type": "stream",
     "text": [
      "{'id': 185, 'img_name': '298626350910', 'width': 1024, 'height': 576, 'position': [-0.38660632386109883, -0.16297803535973865, -3.5829962709443466], 'rotation': [[-0.3529793121189962, -0.9295914969721032, 0.10613790073844773], [-0.9319829406852845, 0.3593412450785513, 0.04776680706312924], [0.08254334308476943, 0.08205801814911717, 0.993203442487907]], 'fy': 776.0253267729305, 'fx': 776.6956362332196}\n",
      "Position difference:  [0.80301207 0.4396682  6.6799098 ]\n",
      "Rotation difference:  [[-0.56979845  1.29307042  0.02178505]\n",
      " [ 0.57429977 -1.29081274  0.0187434 ]\n",
      " [-0.22587499 -0.09767627 -1.98275491]]\n"
     ]
    }
   ],
   "source": [
    "save_list = []\n",
    "\n",
    "start_dict = replace_w2c(cameras[185], keycameras[0])\n",
    "base_forward_direction = get_forward_direction(start_dict)\n",
    "\n",
    "first_append = start_dict.copy()\n",
    "# first_append = flip_camera(first_append)\n",
    "first_append = rotate_about_forward_direction(first_append, np.pi/2)\n",
    "save_list.append(first_append)\n",
    "\n",
    "print(save_list[-1])\n",
    "camera_diff(keycameras[2], first_append)\n",
    "\n",
    "INCREMENT_FORWARD = 0.05\n",
    "INCREMENT_YAW = 2*np.pi / 80\n",
    "START_TURNING_DIST = 1.5\n",
    "STOP_TURN_THRESHOLD = np.pi / 2\n",
    "accumulated_yaw = 0\n",
    "has_turned = False\n",
    "for i in range(200):\n",
    "    last_dict = save_list[-1].copy()\n",
    "\n",
    "    dist = dist_from_origin(last_dict)\n",
    "    last_dict = move_forward(last_dict, INCREMENT_FORWARD)\n",
    "    if dist < START_TURNING_DIST and abs(accumulated_yaw) <= STOP_TURN_THRESHOLD:\n",
    "        last_dict = rotate_camera_dict_about_up_direction(last_dict, INCREMENT_YAW)\n",
    "        accumulated_yaw += INCREMENT_YAW\n",
    "        has_turned = True\n",
    "    elif has_turned:\n",
    "        break\n",
    "\n",
    "    save_list.append(last_dict)\n",
    "\n",
    "# write cameras[185] to a json file\n",
    "with open('camera.json', 'w') as outfile:\n",
    "    json.dump(save_list, outfile)\n",
    "\n",
    "# for keycamera in keycameras:\n",
    "#     save_list.append(rotate_about_forward_direction(replace_w2c(save_list[-1], keycamera), np.pi/2))\n",
    "\n",
    "# for i in range(10):\n",
    "#     save_list.append(rotate_camera(point_camera_at_origin(save_list[-1])))\n"
   ]
  },
  {
   "cell_type": "code",
   "execution_count": 54,
   "metadata": {},
   "outputs": [
    {
     "data": {
      "text/plain": [
       "{'id': 185,\n",
       " 'img_name': '298626350910',\n",
       " 'width': 1000,\n",
       " 'height': 752,\n",
       " 'position': [0.196958, 0.362517, 3.118752],\n",
       " 'rotation': [[0.35803405629105667, 0.9315585717873832, -0.06332647049396699],\n",
       "  [-0.9273320764708398, 0.36268300133732523, 0.09228358732315443],\n",
       "  [-0.10893500118902552, -0.025684000280340846, -0.9937170108464213]],\n",
       " 'fy': 776.0253267729305,\n",
       " 'fx': 776.6956362332196}"
      ]
     },
     "execution_count": 54,
     "metadata": {},
     "output_type": "execute_result"
    }
   ],
   "source": [
    "rotate_about_forward_direction(start_dict, np.pi/2)"
   ]
  },
  {
   "cell_type": "code",
   "execution_count": null,
   "metadata": {},
   "outputs": [],
   "source": []
  }
 ],
 "metadata": {
  "kernelspec": {
   "display_name": "gaussian_splatting",
   "language": "python",
   "name": "python3"
  },
  "language_info": {
   "codemirror_mode": {
    "name": "ipython",
    "version": 3
   },
   "file_extension": ".py",
   "mimetype": "text/x-python",
   "name": "python",
   "nbconvert_exporter": "python",
   "pygments_lexer": "ipython3",
   "version": "3.8.16"
  },
  "orig_nbformat": 4
 },
 "nbformat": 4,
 "nbformat_minor": 2
}
